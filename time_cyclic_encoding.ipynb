import numpy as np
import pandas as pd

def encode_cyclic_time(df):
    """
    Encode time as cyclic features (sin, cos).
    Args:
    - df: DataFrame with 'time' column (seconds since midnight).
    Returns:
    - DataFrame with 'time_sin' and 'time_cos' columns.
    """
    seconds_in_day = 24 * 60 * 60
    df["time_sin"] = np.sin(2 * np.pi * df["time"] / seconds_in_day)
    df["time_cos"] = np.cos(2 * np.pi * df["time"] / seconds_in_day)
    return df

# Read the dataset
df = pd.read_csv("updated_dataset.csv")

# Apply cyclic encoding
df = encode_cyclic_time(df)

# Save the modified dataset (optional)
df.to_csv("updated_dataset_cyclic_encoded.csv", index=False)

# Display the first few rows
print(df.head())
